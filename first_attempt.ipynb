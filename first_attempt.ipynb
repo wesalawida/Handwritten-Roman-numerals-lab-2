{
 "cells": [
  {
   "cell_type": "code",
   "execution_count": 1,
   "id": "a045eecc",
   "metadata": {},
   "outputs": [],
   "source": [
    "import os\n",
    "import imageio.v3 as iio\n",
    "import pathlib\n",
    "import numpy as np\n",
    "from sklearn.model_selection import KFold\n",
    "from skimage.transform import resize\n",
    "import matplotlib.pyplot as plt\n",
    "import matplotlib.image as mpimg\n",
    "%matplotlib inline\n",
    "from sklearn.linear_model import LogisticRegression\n",
    "from sklearn.ensemble import RandomForestClassifier\n",
    "from sklearn.svm import SVC\n",
    "from sklearn.naive_bayes import GaussianNB\n",
    "from sklearn.neural_network import MLPClassifier\n",
    "from sklearn.ensemble import AdaBoostClassifier"
   ]
  },
  {
   "cell_type": "code",
   "execution_count": 2,
   "id": "a99536a1",
   "metadata": {},
   "outputs": [],
   "source": [
    "train_dir = os.path.join(\"data\", \"train\")\n",
    "val_dir = os.path.join(\"data\", \"val\")"
   ]
  },
  {
   "cell_type": "code",
   "execution_count": 3,
   "id": "4eab4724",
   "metadata": {},
   "outputs": [
    {
     "data": {
      "text/plain": [
       "{'i': 1,\n",
       " 'iii': 3,\n",
       " 'vi': 6,\n",
       " 'v': 5,\n",
       " 'vii': 7,\n",
       " 'iv': 4,\n",
       " 'ii': 2,\n",
       " 'viii': 8,\n",
       " 'x': 10,\n",
       " 'ix': 9}"
      ]
     },
     "execution_count": 3,
     "metadata": {},
     "output_type": "execute_result"
    }
   ],
   "source": [
    "classes = dict(zip([name for name in os.listdir(train_dir)], [1, 3, 6, 5, 7, 4, 2, 8, 10, 9]))\n",
    "classes"
   ]
  },
  {
   "cell_type": "code",
   "execution_count": 4,
   "id": "b10a499f",
   "metadata": {},
   "outputs": [],
   "source": [
    "X_full = []\n",
    "Y_full = []\n",
    "for i, directory in enumerate([os.path.join(train_dir, c) for c in classes]):\n",
    "    c = pathlib.Path(directory).parts[-1]\n",
    "    for path in os.listdir(directory):\n",
    "        if path == '.DS_Store':\n",
    "            continue\n",
    "        path = os.path.join(directory, path) # 'train/c + img.png'\n",
    "        X_full.append(iio.imread(path))\n",
    "        Y_full.append(classes[c])"
   ]
  },
  {
   "cell_type": "code",
   "execution_count": 5,
   "id": "c7879641",
   "metadata": {},
   "outputs": [
    {
     "data": {
      "image/png": "[encoded data removed]",
      "text/plain": [
       "<Figure size 432x288 with 1 Axes>"
      ]
     },
     "metadata": {
      "needs_background": "light"
     },
     "output_type": "display_data"
    }
   ],
   "source": [
    "plt.imshow(X_full[20], cmap='Greys_r')\n",
    "plt.show()"
   ]
  },
  {
   "cell_type": "code",
   "execution_count": 6,
   "id": "7bc79a4e",
   "metadata": {},
   "outputs": [],
   "source": [
    "E = 256"
   ]
  },
  {
   "cell_type": "code",
   "execution_count": 7,
   "id": "4cbacf3d",
   "metadata": {},
   "outputs": [],
   "source": [
    "X_full = np.array([resize(img, (E, E)) for img in X_full]).reshape(2067, E*E)\n",
    "Y_full = np.array(Y_full)"
   ]
  },
  {
   "cell_type": "code",
   "execution_count": 12,
   "id": "935707ec",
   "metadata": {},
   "outputs": [],
   "source": [
    "def filter_mislabeled(X_train, Y_train, X_test, Y_test, classifierName, test_idx, mismatches):\n",
    "    clf = None\n",
    "    if classifierName == 'LogisticRegression':\n",
    "        clf = LogisticRegression()\n",
    "    elif classifierName == 'RandomForestClassifier':\n",
    "        clf = RandomForestClassifier(max_depth=2, random_state=0)\n",
    "    elif classifierName == 'SVC':\n",
    "        clf = SVC(kernel='linear')\n",
    "    elif classifierName == 'GaussianNB':\n",
    "        clf = GaussianNB()\n",
    "    elif classifierName == 'MLPClassifier':\n",
    "        clf = MLPClassifier(alpha=1)\n",
    "    elif classifierName == 'AdaBoostClassifier':\n",
    "        clf = AdaBoostClassifier(n_estimators=100, random_state=0)\n",
    "\n",
    "    clf.fit(X_train, Y_train)\n",
    "    Y_pred = clf.predict(X_test)\n",
    "    i = 0\n",
    "    for d, c in zip(Y_test, Y_pred):\n",
    "        if(d != c):\n",
    "            mismatches[test_idx[i]] += 1\n",
    "        i += 1"
   ]
  },
  {
   "cell_type": "code",
   "execution_count": 13,
   "id": "01b4bad9",
   "metadata": {},
   "outputs": [],
   "source": [
    "mismatches = np.zeros(shape=Y_full.shape)\n",
    "kf = KFold(n_splits=10)\n",
    "filtering_classifiers = ['LogisticRegression', 'RandomForestClassifier', 'GaussianNB', 'SVC',\n",
    "                         'MLPClassifier', 'AdaBoostClassifier']"
   ]
  },
  {
   "cell_type": "code",
   "execution_count": 14,
   "id": "bfdd4905",
   "metadata": {},
   "outputs": [],
   "source": [
    "X_mean = X_full.reshape(2067*E*E).mean()\n",
    "X_std = X_full.reshape(2067*E*E).std()\n",
    "X_normalized = (X_full - X_mean) / X_std"
   ]
  },
  {
   "cell_type": "code",
   "execution_count": null,
   "id": "2037631a",
   "metadata": {},
   "outputs": [],
   "source": [
    "s = 1\n",
    "for train_idx, test_idx in kf.split(X_full):\n",
    "    # print('Running Cross-Validation Split ', c)\n",
    "    s += 1\n",
    "    X_train, X_test = X_normalized[train_idx], X_normalized[test_idx]\n",
    "    Y_train, Y_test = Y_full[train_idx], Y_full[test_idx]\n",
    "\n",
    "    for classifier in filtering_classifiers:\n",
    "        filter_mislabeled(X_train, Y_train, X_test, Y_test, classifier, test_idx, mismatches)\n",
    "\n",
    "# print('Original dataset size: ', X_orig.shape[0])\n",
    "\n",
    "m = len(filtering_classifiers)\n",
    "if filtering_type == 'MF':\n",
    "    m /= 2\n",
    "\n",
    "# Removing all the entries which are counted as mislabed by both classifiers\n",
    "idx = np.where(mismatches >= m)[0]\n",
    "X_new = np.delete(X_normalized, idx, 0)\n",
    "Y_new = np.delete(Y_full, idx)\n",
    "\n",
    "# print('Dataset size after removing Mislabeled Data: ', X_new.shape[0])\n"
   ]
  },
  {
   "cell_type": "code",
   "execution_count": 40,
   "id": "7f438955",
   "metadata": {},
   "outputs": [],
   "source": [
    "filtering_type = 'MF'\n",
    "m = len(filtering_classifiers)\n",
    "if filtering_type == 'MF':\n",
    "    m /= 2\n",
    "\n",
    "# Removing all the entries which are counted as mislabed by both classifiers\n",
    "idx = np.where(mismatches >= m)[0]\n",
    "X_new = np.delete(X_full, idx, 0)\n",
    "Y_new = np.delete(Y_full, idx)\n",
    "\n",
    "# print('Dataset size after removing Mislabeled Data: ', X_new.shape[0])"
   ]
  },
  {
   "cell_type": "markdown",
   "id": "be4a8c13",
   "metadata": {},
   "source": [
    "number of mislabeld data according to our prediction:"
   ]
  },
  {
   "cell_type": "code",
   "execution_count": 41,
   "id": "a49f3b57",
   "metadata": {},
   "outputs": [
    {
     "data": {
      "text/plain": [
       "(1940,)"
      ]
     },
     "execution_count": 41,
     "metadata": {},
     "output_type": "execute_result"
    }
   ],
   "source": [
    "idx.shape"
   ]
  },
  {
   "cell_type": "markdown",
   "id": "e5d53592",
   "metadata": {},
   "source": [
    "of course this is wrong."
   ]
  },
  {
   "cell_type": "code",
   "execution_count": null,
   "id": "6626a81d",
   "metadata": {},
   "outputs": [],
   "source": []
  }
 ],
 "metadata": {
  "kernelspec": {
   "display_name": "Python 3 (ipykernel)",
   "language": "python",
   "name": "python3"
  },
  "language_info": {
   "codemirror_mode": {
    "name": "ipython",
    "version": 3
   },
   "file_extension": ".py",
   "mimetype": "text/x-python",
   "name": "python",
   "nbconvert_exporter": "python",
   "pygments_lexer": "ipython3",
   "version": "3.9.12"
  }
 },
 "nbformat": 4,
 "nbformat_minor": 5
}
